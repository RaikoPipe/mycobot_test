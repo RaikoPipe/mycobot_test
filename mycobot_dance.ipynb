{
 "cells": [
  {
   "cell_type": "code",
   "execution_count": 1,
   "id": "initial_id",
   "metadata": {
    "collapsed": true,
    "ExecuteTime": {
     "end_time": "2024-04-24T09:41:18.912536Z",
     "start_time": "2024-04-24T09:41:18.873702Z"
    }
   },
   "outputs": [],
   "source": [
    "from pymycobot import MyCobotSocket\n",
    "from pymycobot.genre import Angle\n",
    "import time"
   ]
  },
  {
   "cell_type": "code",
   "outputs": [],
   "source": [
    "# Initialize the MyCobot\n",
    "mc = MyCobotSocket('141.44.152.231', 9000)"
   ],
   "metadata": {
    "collapsed": false,
    "ExecuteTime": {
     "end_time": "2024-04-24T09:24:48.540685Z",
     "start_time": "2024-04-24T09:24:48.535533Z"
    }
   },
   "id": "21c559199294dd01",
   "execution_count": 2
  },
  {
   "cell_type": "code",
   "outputs": [],
   "source": [
    "# Set the start time\n",
    "start = time.time()\n",
    "# Let the robot arm move to the specified position\n",
    "mc.send_angles([-1.49, 115, -153.45, 30, -33.42, 137.9], 80)\n",
    "# Check whether it move to the specified positon\n",
    "while not mc.is_in_position([-1.49, 115, -153.45, 30, -33.42, 137.9], 0):\n",
    "    # Restore the movement of the robot arm\n",
    "    mc.resume()\n",
    "    # Let the robot arm move 0.5s\n",
    "    time.sleep(0.5)\n",
    "    # Pause the movement of the robot arm\n",
    "    mc.pause()\n",
    "    # Check if the movement timed out\n",
    "    if time.time() - start > 3:\n",
    "        break"
   ],
   "metadata": {
    "collapsed": false,
    "ExecuteTime": {
     "end_time": "2024-04-24T09:24:52.909779Z",
     "start_time": "2024-04-24T09:24:49.823188Z"
    }
   },
   "id": "1dd35c8ab2151a23",
   "execution_count": 3
  },
  {
   "cell_type": "code",
   "outputs": [
    {
     "ename": "KeyboardInterrupt",
     "evalue": "",
     "output_type": "error",
     "traceback": [
      "\u001B[1;31m---------------------------------------------------------------------------\u001B[0m",
      "\u001B[1;31mKeyboardInterrupt\u001B[0m                         Traceback (most recent call last)",
      "Cell \u001B[1;32mIn[4], line 9\u001B[0m\n\u001B[0;32m      7\u001B[0m \u001B[38;5;66;03m# Set the color of the light to[0,0,50]\u001B[39;00m\n\u001B[0;32m      8\u001B[0m mc\u001B[38;5;241m.\u001B[39mset_color(\u001B[38;5;241m0\u001B[39m, \u001B[38;5;241m0\u001B[39m, \u001B[38;5;241m50\u001B[39m)\n\u001B[1;32m----> 9\u001B[0m \u001B[43mtime\u001B[49m\u001B[38;5;241;43m.\u001B[39;49m\u001B[43msleep\u001B[49m\u001B[43m(\u001B[49m\u001B[38;5;241;43m0.7\u001B[39;49m\u001B[43m)\u001B[49m\n\u001B[0;32m     10\u001B[0m \u001B[38;5;66;03m# Let the robot arm reach this position quickly\u001B[39;00m\n\u001B[0;32m     11\u001B[0m mc\u001B[38;5;241m.\u001B[39msend_angles([\u001B[38;5;241m-\u001B[39m\u001B[38;5;241m1.49\u001B[39m, \u001B[38;5;241m55\u001B[39m, \u001B[38;5;241m-\u001B[39m\u001B[38;5;241m153.45\u001B[39m, \u001B[38;5;241m80\u001B[39m, \u001B[38;5;241m33.42\u001B[39m, \u001B[38;5;241m137.9\u001B[39m], \u001B[38;5;241m80\u001B[39m)\n",
      "\u001B[1;31mKeyboardInterrupt\u001B[0m: "
     ]
    }
   ],
   "source": [
    "# Set start time\n",
    "start = time.time()\n",
    "# Let the movement last 30 seconds\n",
    "while time.time() - start < 30:\n",
    "    # Let the robot arm reach this position quickly\n",
    "    mc.send_angles([-1.49, 115, -153.45, 30, -33.42, 137.9], 80)\n",
    "    # Set the color of the light to[0,0,50]\n",
    "    mc.set_color(0, 0, 50)\n",
    "    time.sleep(0.7)\n",
    "    # Let the robot arm reach this position quickly\n",
    "    mc.send_angles([-1.49, 55, -153.45, 80, 33.42, 137.9], 80)\n",
    "    # Set the color of the light to[0,50,0]\n",
    "    mc.set_color(0, 50, 0)\n",
    "    time.sleep(0.7)"
   ],
   "metadata": {
    "collapsed": false,
    "ExecuteTime": {
     "end_time": "2024-04-24T09:25:07.436904Z",
     "start_time": "2024-04-24T09:24:55.341023Z"
    }
   },
   "id": "eb7897f44f4c1f71",
   "execution_count": 4
  },
  {
   "cell_type": "code",
   "outputs": [],
   "source": [
    "mc.close()"
   ],
   "metadata": {
    "collapsed": false,
    "ExecuteTime": {
     "end_time": "2024-04-24T09:26:00.226866Z",
     "start_time": "2024-04-24T09:26:00.223692Z"
    }
   },
   "id": "40cd02f869058fab",
   "execution_count": 6
  },
  {
   "cell_type": "code",
   "outputs": [],
   "source": [],
   "metadata": {
    "collapsed": false
   },
   "id": "658102d95a3e5a34"
  }
 ],
 "metadata": {
  "kernelspec": {
   "display_name": "Python 3",
   "language": "python",
   "name": "python3"
  },
  "language_info": {
   "codemirror_mode": {
    "name": "ipython",
    "version": 2
   },
   "file_extension": ".py",
   "mimetype": "text/x-python",
   "name": "python",
   "nbconvert_exporter": "python",
   "pygments_lexer": "ipython2",
   "version": "2.7.6"
  }
 },
 "nbformat": 4,
 "nbformat_minor": 5
}
