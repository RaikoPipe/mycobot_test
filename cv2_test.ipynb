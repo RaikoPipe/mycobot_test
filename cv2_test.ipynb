{
 "cells": [
  {
   "cell_type": "code",
   "execution_count": 3,
   "id": "initial_id",
   "metadata": {
    "collapsed": true,
    "ExecuteTime": {
     "end_time": "2024-04-25T12:51:12.619960Z",
     "start_time": "2024-04-25T12:51:12.616683Z"
    }
   },
   "outputs": [],
   "source": [
    "import cv2\n",
    "import numpy as np"
   ]
  },
  {
   "cell_type": "code",
   "outputs": [],
   "source": [
    "# capture the frame\n",
    "cap = cv2.VideoCapture(1)\n",
    "\n",
    "if not cap.isOpened():\n",
    "    print(\"Cannot open camera\")\n",
    "    exit()\n",
    "ret, frame = cap.read()\n",
    "cap.release()\n",
    "\n",
    "if not ret:\n",
    "    print(\"Can't receive frame (stream end?). Exiting ...\")\n",
    "    exit()"
   ],
   "metadata": {
    "collapsed": false,
    "ExecuteTime": {
     "end_time": "2024-04-25T12:51:16.448023Z",
     "start_time": "2024-04-25T12:51:12.815638Z"
    }
   },
   "id": "2412874d04d3db62",
   "execution_count": 4
  },
  {
   "cell_type": "code",
   "outputs": [],
   "source": [
    "# Preprocess the image\n",
    "# Convert to grayscale and then to binary image\n",
    "gray = cv2.cvtColor(frame, cv2.COLOR_BGR2GRAY)\n",
    "_, thresh = cv2.threshold(gray, 127, 255, cv2.THRESH_BINARY)"
   ],
   "metadata": {
    "collapsed": false,
    "ExecuteTime": {
     "end_time": "2024-04-25T12:51:16.452667Z",
     "start_time": "2024-04-25T12:51:16.449036Z"
    }
   },
   "id": "df475193131e2c5",
   "execution_count": 5
  },
  {
   "cell_type": "code",
   "outputs": [
    {
     "name": "stderr",
     "output_type": "stream",
     "text": [
      "C:\\Users\\ladmin\\AppData\\Local\\Temp\\ipykernel_14004\\2066518017.py:13: DeprecationWarning: `np.int0` is a deprecated alias for `np.intp`.  (Deprecated NumPy 1.24)\n",
      "  box = np.int0(box)\n"
     ]
    },
    {
     "name": "stdout",
     "output_type": "stream",
     "text": [
      "Center: (555, 478)\n",
      "Angle of rotation: -0.0\n",
      "Center: (111, 457)\n",
      "Angle of rotation: -0.0\n",
      "Center: (567, 407)\n",
      "Angle of rotation: 90.0\n",
      "Center: (31, 404)\n",
      "Angle of rotation: 4.343239784240723\n",
      "Center: (16, 348)\n",
      "Angle of rotation: 45.0\n",
      "Center: (19, 347)\n",
      "Angle of rotation: 45.0\n",
      "Center: (625, 287)\n",
      "Angle of rotation: -0.0\n",
      "Center: (611, 288)\n",
      "Angle of rotation: 86.98721313476562\n",
      "Center: (406, 257)\n",
      "Angle of rotation: 45.0\n",
      "Center: (400, 235)\n",
      "Angle of rotation: 45.0\n",
      "Center: (108, 191)\n",
      "Angle of rotation: 90.0\n",
      "Center: (96, 192)\n",
      "Angle of rotation: 90.0\n",
      "Center: (9, 190)\n",
      "Angle of rotation: 90.0\n",
      "Center: (569, 171)\n",
      "Angle of rotation: 90.0\n",
      "Center: (557, 171)\n",
      "Angle of rotation: 90.0\n",
      "Center: (1, 165)\n",
      "Angle of rotation: 90.0\n",
      "Center: (634, 25)\n",
      "Angle of rotation: 45.0\n",
      "Center: (632, 25)\n",
      "Angle of rotation: 45.0\n"
     ]
    }
   ],
   "source": [
    "# Step 3: Detect the contours\n",
    "contours, _ = cv2.findContours(thresh, cv2.RETR_LIST, cv2.CHAIN_APPROX_SIMPLE)\n",
    "\n",
    "for cnt in contours:\n",
    "    # Approximate the contour to a polygon\n",
    "    epsilon = 0.02 * cv2.arcLength(cnt, True)\n",
    "    approx = cv2.approxPolyDP(cnt, epsilon, True)\n",
    "\n",
    "    if len(approx) == 4:  # Check if the contour has 4 sides\n",
    "        # Compute the bounding box of the contour\n",
    "        rect = cv2.minAreaRect(approx)\n",
    "        box = cv2.boxPoints(rect)\n",
    "        box = np.int0(box)\n",
    "\n",
    "        # Draw the box\n",
    "        cv2.drawContours(frame, [box], 0, (0, 0, 255), 2)\n",
    "\n",
    "        # Step 4: Determine the center and rotation\n",
    "        center = (int(rect[0][0]), int(rect[0][1]))\n",
    "        angle = rect[2]\n",
    "        print(\"Center:\", center)\n",
    "        print(\"Angle of rotation:\", angle)\n",
    "\n",
    "# Show the result\n",
    "cv2.imshow('Detected Square', frame)\n",
    "# save the image\n",
    "cv2.imwrite('detected_square.jpg', frame)\n",
    "cv2.waitKey(0)\n",
    "cv2.destroyAllWindows()"
   ],
   "metadata": {
    "collapsed": false,
    "ExecuteTime": {
     "end_time": "2024-04-25T12:51:21.458286Z",
     "start_time": "2024-04-25T12:51:16.453672Z"
    }
   },
   "id": "e49017f8ee1885d3",
   "execution_count": 6
  },
  {
   "cell_type": "code",
   "outputs": [],
   "source": [
    "import cv2\n",
    "\n",
    "# capture the frame\n",
    "cap = cv2.VideoCapture(1)\n",
    "\n",
    "if not cap.isOpened():\n",
    "    print(\"Cannot open camera\")\n",
    "    exit()\n",
    "ret, image = cap.read()\n",
    "cap.release()\n",
    "\n",
    "if not ret:\n",
    "    print(\"Can't receive frame (stream end?). Exiting ...\")\n",
    "    exit()\n",
    "\n",
    "# Define the starting point of the crop (top-left corner)\n",
    "start_x = 165  # example value\n",
    "start_y = 90  # example value\n",
    "\n",
    "# Define the size of the crop\n",
    "crop_size = 312\n",
    "\n",
    "\n",
    "# Check if the crop area is within the image boundaries\n",
    "if start_x + crop_size <= image.shape[1] and start_y + crop_size <= image.shape[0]:\n",
    "    # Crop the image\n",
    "    cropped_image = image[start_y:start_y + crop_size, start_x:start_x + crop_size]\n",
    "\n",
    "    # Save or display the cropped image\n",
    "    cv2.imwrite('cropped_image.jpg', cropped_image)\n",
    "    cv2.imshow('Cropped Image', cropped_image)\n",
    "    cv2.waitKey(0)\n",
    "    cv2.destroyAllWindows()\n",
    "else:\n",
    "    print(\"The defined crop area exceeds the image dimensions.\")"
   ],
   "metadata": {
    "collapsed": false,
    "ExecuteTime": {
     "end_time": "2024-04-25T13:20:27.428343Z",
     "start_time": "2024-04-25T13:20:21.769698Z"
    }
   },
   "id": "bc800e72f09c8d65",
   "execution_count": 22
  },
  {
   "cell_type": "code",
   "outputs": [],
   "source": [],
   "metadata": {
    "collapsed": false,
    "ExecuteTime": {
     "end_time": "2024-04-25T13:17:30.835018Z",
     "start_time": "2024-04-25T13:17:30.832464Z"
    }
   },
   "id": "2d0eb1e2ab773751",
   "execution_count": 17
  }
 ],
 "metadata": {
  "kernelspec": {
   "display_name": "Python 3",
   "language": "python",
   "name": "python3"
  },
  "language_info": {
   "codemirror_mode": {
    "name": "ipython",
    "version": 2
   },
   "file_extension": ".py",
   "mimetype": "text/x-python",
   "name": "python",
   "nbconvert_exporter": "python",
   "pygments_lexer": "ipython2",
   "version": "2.7.6"
  }
 },
 "nbformat": 4,
 "nbformat_minor": 5
}
