{
 "cells": [
  {
   "cell_type": "code",
   "execution_count": 69,
   "id": "initial_id",
   "metadata": {
    "collapsed": true,
    "ExecuteTime": {
     "end_time": "2024-04-24T11:56:42.565668Z",
     "start_time": "2024-04-24T11:56:42.562134Z"
    }
   },
   "outputs": [],
   "source": [
    "from pymycobot import MyCobotSocket\n",
    "import time"
   ]
  },
  {
   "cell_type": "code",
   "outputs": [],
   "source": [
    "# Initialize the MyCobot\n",
    "mc = MyCobotSocket('141.44.152.231', 9000)"
   ],
   "metadata": {
    "collapsed": false,
    "ExecuteTime": {
     "end_time": "2024-04-24T11:56:42.729476Z",
     "start_time": "2024-04-24T11:56:42.724732Z"
    }
   },
   "id": "1860396ca302e318",
   "execution_count": 70
  },
  {
   "cell_type": "code",
   "outputs": [
    {
     "data": {
      "text/plain": "'Caution: NEVER SEND BOTH ANGLES AND GRIPPER STATE AT THE SAME TIME. MYCOBOT WILL GO INTO ZERO CONFIGURATION AND CRASH INTO CAMERA.'"
     },
     "execution_count": 71,
     "metadata": {},
     "output_type": "execute_result"
    }
   ],
   "source": [
    "\"\"\"Caution: NEVER SEND BOTH ANGLES AND GRIPPER STATE AT THE SAME TIME. MYCOBOT WILL GO INTO ZERO CONFIGURATION AND CRASH INTO CAMERA.\"\"\""
   ],
   "metadata": {
    "collapsed": false,
    "ExecuteTime": {
     "end_time": "2024-04-24T11:56:43.159104Z",
     "start_time": "2024-04-24T11:56:43.153273Z"
    }
   },
   "id": "e1fe9786868d41b4",
   "execution_count": 71
  },
  {
   "cell_type": "markdown",
   "source": [
    "## Teach In Mode"
   ],
   "metadata": {
    "collapsed": false
   },
   "id": "5de6f1be471ed84"
  },
  {
   "cell_type": "code",
   "outputs": [],
   "source": [
    "# release servos\n"
   ],
   "metadata": {
    "collapsed": false,
    "ExecuteTime": {
     "end_time": "2024-04-24T11:56:44.951403Z",
     "start_time": "2024-04-24T11:56:44.948513Z"
    }
   },
   "id": "c378f319ac14770a",
   "execution_count": 72
  },
  {
   "cell_type": "code",
   "outputs": [],
   "source": [
    "\n"
   ],
   "metadata": {
    "collapsed": false,
    "ExecuteTime": {
     "end_time": "2024-04-24T11:56:45.315137Z",
     "start_time": "2024-04-24T11:56:45.312817Z"
    }
   },
   "id": "d14eae319b9eef4",
   "execution_count": 72
  },
  {
   "cell_type": "markdown",
   "source": [
    "### Teach in key positions"
   ],
   "metadata": {
    "collapsed": false
   },
   "id": "25906a1a70599412"
  },
  {
   "cell_type": "code",
   "outputs": [],
   "source": [
    "# go home\n",
    "mc.send_angles([2.72, 12.39, -96.59, -0.26, -3.07, 142.64], 25)\n",
    "time.sleep(2)"
   ],
   "metadata": {
    "collapsed": false,
    "ExecuteTime": {
     "end_time": "2024-04-24T12:26:07.356811Z",
     "start_time": "2024-04-24T12:26:05.352477Z"
    }
   },
   "id": "e6a69eb882607e9e",
   "execution_count": 198
  },
  {
   "cell_type": "code",
   "outputs": [],
   "source": [
    "# reset gripper\n",
    "mc.set_gripper_value(100, 25, 1)\n",
    "time.sleep(2)"
   ],
   "metadata": {
    "collapsed": false,
    "ExecuteTime": {
     "end_time": "2024-04-24T12:23:25.813054Z",
     "start_time": "2024-04-24T12:23:23.809040Z"
    }
   },
   "id": "201ffe62fac21acd",
   "execution_count": 187
  },
  {
   "cell_type": "code",
   "outputs": [],
   "source": [
    "# teach key positions\n",
    "commands = []"
   ],
   "metadata": {
    "collapsed": false,
    "ExecuteTime": {
     "end_time": "2024-04-24T12:23:27.085005Z",
     "start_time": "2024-04-24T12:23:27.081255Z"
    }
   },
   "id": "6198db0f592abd2e",
   "execution_count": 188
  },
  {
   "cell_type": "code",
   "outputs": [],
   "source": [
    "# release all servos\n",
    "mc.release_all_servos()"
   ],
   "metadata": {
    "collapsed": false,
    "ExecuteTime": {
     "end_time": "2024-04-24T12:23:30.779778Z",
     "start_time": "2024-04-24T12:23:30.776564Z"
    }
   },
   "id": "7c4a865eb68bacb5",
   "execution_count": 189
  },
  {
   "cell_type": "code",
   "outputs": [
    {
     "name": "stdout",
     "output_type": "stream",
     "text": [
      "Key position saved: [3.33, 11.07, -97.11, -2.28, -2.28, 143.61]\n"
     ]
    }
   ],
   "source": [
    "# save key position\n",
    "angle = mc.get_angles()\n",
    "commands.append(('angle', angle))\n",
    "print(f'Key position saved: {angle}')"
   ],
   "metadata": {
    "collapsed": false,
    "ExecuteTime": {
     "end_time": "2024-04-24T12:26:09.634832Z",
     "start_time": "2024-04-24T12:26:09.554190Z"
    }
   },
   "id": "e0f5d44841ccde2f",
   "execution_count": 199
  },
  {
   "cell_type": "code",
   "outputs": [],
   "source": [
    "# save close gripper command\n",
    "commands.append(('gripper', 'close'))"
   ],
   "metadata": {
    "collapsed": false,
    "ExecuteTime": {
     "end_time": "2024-04-24T12:23:47.933241Z",
     "start_time": "2024-04-24T12:23:47.929497Z"
    }
   },
   "id": "79b63e2a0e069447",
   "execution_count": 191
  },
  {
   "cell_type": "code",
   "outputs": [],
   "source": [
    "# save open gripper command\n",
    "commands.append(('gripper', 'open'))"
   ],
   "metadata": {
    "collapsed": false,
    "ExecuteTime": {
     "end_time": "2024-04-24T12:24:10.028579Z",
     "start_time": "2024-04-24T12:24:10.024873Z"
    }
   },
   "id": "975aa376c5357be1",
   "execution_count": 194
  },
  {
   "cell_type": "code",
   "outputs": [
    {
     "name": "stdout",
     "output_type": "stream",
     "text": [
      "Move to Angle: [23.73, -40.86, -129.55, 82.35, -1.58, 163.12]\n",
      "Set Gripper to: close\n",
      "Move to Angle: [23.29, 0.96, -82.79, -11.16, -2.54, 171.12]\n",
      "Move to Angle: [45.08, -62.31, -3.16, -21.88, 1.58, 174.37]\n",
      "Set Gripper to: open\n",
      "Move to Angle: [3.33, 11.07, -97.11, -2.28, -2.28, 143.61]\n"
     ]
    }
   ],
   "source": [
    "# check commands\n",
    "for command in commands:\n",
    "    if command[0] == 'angle':\n",
    "        print(f'Move to Angle: {command[1]}')\n",
    "    elif command[0] == 'gripper':\n",
    "        print(f'Set Gripper to: {command[1]}')\n",
    "    else:\n",
    "        print('Unknown command')"
   ],
   "metadata": {
    "collapsed": false,
    "ExecuteTime": {
     "end_time": "2024-04-24T12:26:11.861842Z",
     "start_time": "2024-04-24T12:26:11.857843Z"
    }
   },
   "id": "fe2aae1c706ff0de",
   "execution_count": 200
  },
  {
   "cell_type": "code",
   "outputs": [
    {
     "name": "stdout",
     "output_type": "stream",
     "text": [
      "Playing commands\n",
      "[('angle', [23.73, -40.86, -129.55, 82.35, -1.58, 163.12]), ('gripper', 'close'), ('angle', [23.29, 0.96, -82.79, -11.16, -2.54, 171.12]), ('angle', [45.08, -62.31, -3.16, -21.88, 1.58, 174.37]), ('gripper', 'open'), ('angle', [3.33, 11.07, -97.11, -2.28, -2.28, 143.61])]\n",
      "Going to position: [3.33, 11.07, -97.11, -2.28, -2.28, 143.61]\n",
      "Closing gripper\n",
      "Going to position: [3.33, 11.07, -97.11, -2.28, -2.28, 143.61]\n",
      "Going to position: [3.33, 11.07, -97.11, -2.28, -2.28, 143.61]\n",
      "Opening gripper\n",
      "Going to position: [3.33, 11.07, -97.11, -2.28, -2.28, 143.61]\n"
     ]
    }
   ],
   "source": [
    "# play key positions\n",
    "speed = 25\n",
    "print('Playing commands')\n",
    "print(commands)\n",
    "for command in commands:\n",
    "    match command[0]:\n",
    "        case 'angle':\n",
    "            print(f'Going to position: {angle}')\n",
    "            mc.send_angles(command[1], speed)\n",
    "            start = time.time()\n",
    "            while True:\n",
    "                if mc.is_in_position(command[1], 0):\n",
    "                    break\n",
    "                if time.time() - start > 10:\n",
    "                    print('Timeout')\n",
    "                    break\n",
    "        case 'gripper':\n",
    "            if command[1] == 'close':\n",
    "                print('Closing gripper')\n",
    "                mc.set_gripper_state(1, speed)\n",
    "                time.sleep(2)\n",
    "            elif command[1] == 'open':\n",
    "                print('Opening gripper')\n",
    "                mc.set_gripper_state(0, speed)\n",
    "                time.sleep(2)\n",
    "        case _:\n",
    "            print('Unknown command')\n",
    "      \n",
    "    "
   ],
   "metadata": {
    "collapsed": false,
    "ExecuteTime": {
     "end_time": "2024-04-24T12:29:24.804069Z",
     "start_time": "2024-04-24T12:29:15.968483Z"
    }
   },
   "id": "b09c3b0376485080",
   "execution_count": 208
  },
  {
   "cell_type": "code",
   "outputs": [
    {
     "ename": "NameError",
     "evalue": "name 'key_positions' is not defined",
     "output_type": "error",
     "traceback": [
      "\u001B[1;31m---------------------------------------------------------------------------\u001B[0m",
      "\u001B[1;31mNameError\u001B[0m                                 Traceback (most recent call last)",
      "Cell \u001B[1;32mIn[7], line 1\u001B[0m\n\u001B[1;32m----> 1\u001B[0m mc\u001B[38;5;241m.\u001B[39msend_angles(\u001B[43mkey_positions\u001B[49m\u001B[38;5;241m.\u001B[39mpop(\u001B[38;5;241m0\u001B[39m))\n",
      "\u001B[1;31mNameError\u001B[0m: name 'key_positions' is not defined"
     ]
    }
   ],
   "source": [
    "mc.send_angles(key_positions.pop(0))"
   ],
   "metadata": {
    "collapsed": false,
    "ExecuteTime": {
     "end_time": "2024-04-24T11:28:22.021380Z",
     "start_time": "2024-04-24T11:28:21.856079Z"
    }
   },
   "id": "2755a612b5d5e814",
   "execution_count": 7
  },
  {
   "cell_type": "markdown",
   "source": [
    "### Teach in path"
   ],
   "metadata": {
    "collapsed": false
   },
   "id": "10e928585975bb18"
  },
  {
   "cell_type": "code",
   "outputs": [
    {
     "name": "stdout",
     "output_type": "stream",
     "text": [
      "[2.72, 12.39, -96.59, 0.17, -2.9, 142.64]\n",
      "[2.72, 12.39, -96.59, 0.26, -2.9, 142.64]\n",
      "[2.72, 12.39, -96.59, 0.0, -2.9, 142.64]\n",
      "[2.72, 12.39, -96.59, 0.08, -2.9, 142.64]\n",
      "[2.72, 12.39, -96.59, 0.35, -2.9, 142.64]\n",
      "[2.72, 12.39, -96.59, 0.43, -2.9, 142.64]\n",
      "[2.72, 12.39, -96.59, 0.52, -2.9, 142.64]\n",
      "[2.72, 12.39, -96.59, 0.52, -2.9, 142.64]\n",
      "[2.72, 12.39, -96.59, 0.52, -2.9, 142.64]\n",
      "[2.72, 12.39, -96.59, 0.61, -2.9, 142.64]\n",
      "[2.72, 12.39, -96.59, 0.26, -2.9, 142.64]\n",
      "[2.72, 12.39, -96.59, -0.08, -2.9, 142.64]\n",
      "[2.72, 12.39, -96.59, 0.0, -2.9, 142.64]\n",
      "[2.72, 12.39, -96.59, 0.0, -2.9, 142.64]\n",
      "[2.72, 12.39, -96.59, -0.08, -2.9, 142.64]\n",
      "[2.72, 12.39, -96.59, 0.26, -2.9, 142.64]\n",
      "[2.72, 12.39, -96.59, 0.61, -2.9, 142.64]\n",
      "[2.72, 12.39, -96.59, 0.26, -2.9, 142.64]\n",
      "[2.72, 12.39, -96.59, -0.08, -2.9, 142.64]\n",
      "[2.72, 12.39, -96.59, -0.26, -2.9, 142.64]\n",
      "[2.72, 12.39, -96.59, -0.43, -2.9, 142.64]\n",
      "[2.72, 12.39, -96.59, -0.52, -2.9, 142.64]\n",
      "[2.72, 12.39, -96.59, -0.43, -2.98, 142.64]\n",
      "[2.72, 12.39, -96.59, -0.26, -3.07, 142.64]\n"
     ]
    },
    {
     "ename": "KeyboardInterrupt",
     "evalue": "",
     "output_type": "error",
     "traceback": [
      "\u001B[1;31m---------------------------------------------------------------------------\u001B[0m",
      "\u001B[1;31mKeyboardInterrupt\u001B[0m                         Traceback (most recent call last)",
      "Cell \u001B[1;32mIn[19], line 11\u001B[0m\n\u001B[0;32m      9\u001B[0m angle_list\u001B[38;5;241m.\u001B[39mappend(angle)\n\u001B[0;32m     10\u001B[0m gripper_list\u001B[38;5;241m.\u001B[39mappend(gripper_value)\n\u001B[1;32m---> 11\u001B[0m time\u001B[38;5;241m.\u001B[39msleep(\u001B[38;5;241m0.1\u001B[39m)\n\u001B[0;32m     12\u001B[0m \u001B[38;5;28mprint\u001B[39m(angle)\n",
      "\u001B[1;31mKeyboardInterrupt\u001B[0m: "
     ]
    }
   ],
   "source": [
    "mc.release_all_servos()\n",
    "\n",
    "angle_list = []\n",
    "gripper_list = []\n",
    "# teach path\n",
    "while True:\n",
    "    angle = mc.get_angles()\n",
    "    gripper_value = mc.get_gripper_value()\n",
    "    angle_list.append(angle)\n",
    "    gripper_list.append(gripper_value)\n",
    "    time.sleep(0.1)\n",
    "    print(angle)"
   ],
   "metadata": {
    "collapsed": false,
    "ExecuteTime": {
     "end_time": "2024-04-24T11:32:51.935054Z",
     "start_time": "2024-04-24T11:32:48.057879Z"
    }
   },
   "id": "53d5deed18e03b15",
   "execution_count": 19
  },
  {
   "cell_type": "code",
   "outputs": [],
   "source": [
    "# play path\n",
    "for angle in angle_list:\n",
    "    mc.send_angles(angle, 25)\n",
    "    time.sleep(0.1)\n"
   ],
   "metadata": {
    "collapsed": false,
    "ExecuteTime": {
     "end_time": "2024-04-24T10:53:15.683085Z",
     "start_time": "2024-04-24T10:52:55.416871Z"
    }
   },
   "id": "ccf6ecb46f793aec",
   "execution_count": 44
  },
  {
   "cell_type": "code",
   "outputs": [
    {
     "name": "stdout",
     "output_type": "stream",
     "text": [
      "[31.55, -90.7, 105.29, -105.02, -4.13, 145.89]\n",
      "[31.55, -90.7, 105.29, -104.58, -4.13, 145.89]\n",
      "[31.55, -90.7, 105.29, -104.58, -4.13, 145.89]\n",
      "[31.55, -90.7, 105.29, -104.76, -4.13, 145.89]\n",
      "[31.55, -90.7, 105.29, -104.94, -4.13, 145.89]\n",
      "[31.55, -90.7, 105.29, -105.2, -4.13, 145.89]\n",
      "[31.55, -90.7, 105.29, -105.2, -4.04, 145.89]\n",
      "[31.55, -90.7, 105.29, -105.2, -4.04, 145.89]\n",
      "[31.72, -90.7, 105.29, -104.58, -3.86, 145.89]\n",
      "[31.99, -90.7, 105.29, -101.51, -2.81, 145.89]\n",
      "[31.99, -90.7, 105.02, -92.81, -3.86, 145.72]\n",
      "[31.55, -90.7, 105.02, -87.8, -13.62, 145.63]\n",
      "[29.17, -90.17, 105.29, -86.83, -15.99, 145.54]\n",
      "[25.4, -90.17, 105.2, -83.75, -12.39, 145.54]\n",
      "[20.56, -90.08, 105.29, -83.23, -7.82, 145.54]\n",
      "[16.34, -88.59, 105.29, -81.03, -2.72, 145.81]\n",
      "[15.9, -86.48, 105.29, -81.73, -2.81, 145.81]\n",
      "[15.9, -84.19, 104.94, -85.6, -2.72, 145.81]\n",
      "[15.2, -81.12, 104.94, -93.86, -2.37, 145.81]\n",
      "[13.62, -75.76, 104.85, -101.33, -2.54, 145.81]\n",
      "[10.89, -73.12, 102.3, -100.01, -1.75, 145.81]\n",
      "[7.82, -69.96, 93.69, -93.42, 0.35, 145.81]\n",
      "[6.94, -63.36, 82.44, -90.52, 1.31, 145.81]\n",
      "[6.94, -57.04, 72.68, -93.6, 2.1, 145.81]\n",
      "[6.85, -52.73, 63.72, -95.36, 2.28, 145.45]\n",
      "[6.85, -50.0, 56.16, -95.97, 5.18, 145.1]\n",
      "[6.85, -48.51, 50.0, -95.18, 4.57, 143.52]\n",
      "[6.85, -47.54, 45.7, -92.37, 4.21, 142.11]\n",
      "[6.85, -47.19, 45.35, -91.4, 4.13, 142.11]\n",
      "[7.11, -47.63, 45.52, -90.87, 4.04, 142.11]\n",
      "[7.2, -48.86, 48.77, -91.4, 4.74, 142.11]\n",
      "[7.2, -54.31, 58.62, -93.42, 4.65, 142.11]\n",
      "[7.2, -59.58, 72.86, -97.2, 1.23, 142.11]\n",
      "[6.94, -61.52, 81.03, -98.52, -0.7, 141.85]\n",
      "[6.94, -60.99, 81.47, -96.24, -2.9, 141.06]\n",
      "[7.03, -60.99, 81.82, -95.27, -4.57, 140.53]\n",
      "[7.29, -60.99, 81.91, -94.83, -3.42, 140.53]\n",
      "[7.03, -61.08, 81.91, -95.27, -1.05, 140.88]\n",
      "[7.2, -60.99, 81.91, -97.03, -0.79, 141.59]\n",
      "[7.03, -60.99, 81.91, -97.55, -0.61, 141.59]\n",
      "[6.94, -60.99, 81.91, -97.38, -0.96, 141.59]\n",
      "[6.94, -60.99, 81.91, -97.55, -1.31, 141.59]\n",
      "[6.94, -60.99, 81.91, -97.82, -1.14, 141.59]\n",
      "[6.94, -60.99, 81.91, -97.91, -1.23, 141.59]\n",
      "[6.85, -61.17, 81.91, -98.7, -1.31, 141.59]\n",
      "[5.71, -61.43, 81.91, -99.49, -0.96, 141.24]\n",
      "[3.25, -61.52, 81.82, -100.89, 0.87, 140.44]\n",
      "[2.02, -61.52, 81.91, -101.42, 0.43, 140.44]\n",
      "[0.87, -61.52, 81.91, -102.12, 0.35, 140.44]\n",
      "[0.7, -61.52, 81.91, -103.18, 0.87, 140.8]\n",
      "[0.52, -61.52, 81.91, -104.23, 1.84, 140.97]\n",
      "[0.52, -61.52, 81.91, -103.71, 2.63, 141.24]\n",
      "[0.87, -61.52, 81.73, -100.89, 2.54, 141.24]\n",
      "[0.96, -61.52, 81.47, -100.72, 3.6, 141.24]\n",
      "[0.96, -61.52, 81.47, -100.81, 4.3, 141.24]\n",
      "[0.96, -61.52, 81.73, -101.07, 5.36, 141.24]\n",
      "[0.87, -61.52, 81.91, -101.6, 5.18, 140.97]\n",
      "[0.7, -61.52, 81.91, -102.12, 5.27, 140.71]\n",
      "[0.61, -61.52, 81.91, -102.12, 4.48, 140.44]\n",
      "[0.61, -61.52, 81.91, -102.12, 4.48, 140.44]\n",
      "[0.61, -61.52, 81.91, -102.83, 4.21, 140.44]\n",
      "[0.61, -61.52, 81.91, -103.35, 3.25, 140.44]\n",
      "[0.61, -61.52, 81.91, -103.18, 2.72, 140.44]\n",
      "[0.61, -61.52, 81.91, -102.74, 1.75, 140.44]\n",
      "[0.61, -61.52, 81.91, -101.68, 2.37, 140.44]\n",
      "[0.61, -61.52, 81.91, -101.42, 2.98, 140.44]\n",
      "[0.61, -61.52, 81.91, -101.77, 3.42, 140.44]\n",
      "[0.61, -61.52, 81.91, -102.56, 3.51, 140.44]\n",
      "[0.61, -61.52, 81.91, -102.83, 3.33, 140.44]\n",
      "[0.61, -61.52, 81.91, -102.91, 3.07, 140.44]\n",
      "[0.61, -61.52, 81.91, -103.62, 3.16, 140.44]\n",
      "[0.61, -61.52, 81.91, -104.06, 3.51, 140.44]\n",
      "[0.61, -61.52, 81.91, -103.62, 3.6, 140.44]\n",
      "[0.61, -61.52, 81.91, -103.97, 3.77, 140.44]\n",
      "[0.61, -61.52, 81.91, -103.97, 3.86, 140.44]\n",
      "[0.61, -61.52, 81.91, -103.97, 3.77, 140.44]\n",
      "[0.61, -61.52, 81.91, -103.79, 3.25, 140.44]\n",
      "[0.61, -61.52, 81.91, -103.62, 3.07, 140.44]\n",
      "[0.61, -61.52, 81.91, -103.53, 3.07, 140.44]\n",
      "[0.61, -61.52, 81.91, -103.62, 3.07, 140.44]\n"
     ]
    }
   ],
   "source": [
    "# print angles for 10 seconds\n",
    "start = time.time()\n",
    "while time.time() - start < 10:\n",
    "    print(mc.get_angles())\n",
    "    time.sleep(0.1)"
   ],
   "metadata": {
    "collapsed": false,
    "ExecuteTime": {
     "end_time": "2024-04-24T10:31:09.717142Z",
     "start_time": "2024-04-24T10:30:59.694822Z"
    }
   },
   "id": "5ae345b4a2adea63",
   "execution_count": 5
  },
  {
   "cell_type": "code",
   "outputs": [],
   "source": [
    "mc.close()"
   ],
   "metadata": {
    "collapsed": false,
    "ExecuteTime": {
     "end_time": "2024-04-24T13:02:50.302413Z",
     "start_time": "2024-04-24T13:02:50.298233Z"
    }
   },
   "id": "4dc4e7a8c606a2c5",
   "execution_count": 209
  },
  {
   "cell_type": "code",
   "outputs": [],
   "source": [],
   "metadata": {
    "collapsed": false
   },
   "id": "923fc6f991076967"
  }
 ],
 "metadata": {
  "kernelspec": {
   "display_name": "Python 3",
   "language": "python",
   "name": "python3"
  },
  "language_info": {
   "codemirror_mode": {
    "name": "ipython",
    "version": 2
   },
   "file_extension": ".py",
   "mimetype": "text/x-python",
   "name": "python",
   "nbconvert_exporter": "python",
   "pygments_lexer": "ipython2",
   "version": "2.7.6"
  }
 },
 "nbformat": 4,
 "nbformat_minor": 5
}
