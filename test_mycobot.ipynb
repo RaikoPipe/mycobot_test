{
 "cells": [
  {
   "cell_type": "code",
   "execution_count": 36,
   "outputs": [],
   "source": [
    "from pymycobot import MyCobotSocket\n",
    "import time"
   ],
   "metadata": {
    "collapsed": false,
    "ExecuteTime": {
     "end_time": "2024-03-12T15:49:14.405979900Z",
     "start_time": "2024-03-12T15:49:14.375358300Z"
    }
   }
  },
  {
   "cell_type": "code",
   "execution_count": 37,
   "outputs": [],
   "source": [
    "# Initialize the MyCobot\n",
    "mc = MyCobotSocket('141.44.152.231', 9000)"
   ],
   "metadata": {
    "collapsed": false,
    "ExecuteTime": {
     "end_time": "2024-03-12T15:49:14.406998400Z",
     "start_time": "2024-03-12T15:49:14.376354600Z"
    }
   }
  },
  {
   "cell_type": "code",
   "execution_count": 152,
   "outputs": [],
   "source": [
    "# Send the robot to the zero configuration\n",
    "mc.send_angles([0, 0, 0, 0, 0, 0], 50)  # 50 is the speed"
   ],
   "metadata": {
    "collapsed": false,
    "ExecuteTime": {
     "end_time": "2024-03-12T16:19:03.047895100Z",
     "start_time": "2024-03-12T16:19:03.032631600Z"
    }
   }
  },
  {
   "cell_type": "code",
   "execution_count": 109,
   "outputs": [
    {
     "ename": "KeyboardInterrupt",
     "evalue": "",
     "output_type": "error",
     "traceback": [
      "\u001B[1;31m---------------------------------------------------------------------------\u001B[0m",
      "\u001B[1;31mKeyboardInterrupt\u001B[0m                         Traceback (most recent call last)",
      "Cell \u001B[1;32mIn[109], line 6\u001B[0m\n\u001B[0;32m      4\u001B[0m \u001B[38;5;28;01mfor\u001B[39;00m count \u001B[38;5;129;01min\u001B[39;00m \u001B[38;5;28mrange\u001B[39m(\u001B[38;5;241m3\u001B[39m):\n\u001B[0;32m      5\u001B[0m   mc\u001B[38;5;241m.\u001B[39msend_angles([\u001B[38;5;241m87.8\u001B[39m,(\u001B[38;5;241m-\u001B[39m\u001B[38;5;241m51.5\u001B[39m),\u001B[38;5;241m60.9\u001B[39m,\u001B[38;5;241m11.95\u001B[39m,(\u001B[38;5;241m-\u001B[39m\u001B[38;5;241m15.9\u001B[39m),(\u001B[38;5;241m-\u001B[39m\u001B[38;5;241m6.06\u001B[39m)],\u001B[38;5;241m50\u001B[39m)\n\u001B[1;32m----> 6\u001B[0m   \u001B[43mtime\u001B[49m\u001B[38;5;241;43m.\u001B[39;49m\u001B[43msleep\u001B[49m\u001B[43m(\u001B[49m\u001B[38;5;241;43m1\u001B[39;49m\u001B[43m)\u001B[49m\n\u001B[0;32m      7\u001B[0m   mc\u001B[38;5;241m.\u001B[39msend_angles([\u001B[38;5;241m87.97\u001B[39m,\u001B[38;5;241m42.01\u001B[39m,(\u001B[38;5;241m-\u001B[39m\u001B[38;5;241m45.26\u001B[39m),\u001B[38;5;241m10.37\u001B[39m,(\u001B[38;5;241m-\u001B[39m\u001B[38;5;241m15.9\u001B[39m),(\u001B[38;5;241m-\u001B[39m\u001B[38;5;241m6.06\u001B[39m)],\u001B[38;5;241m50\u001B[39m)\n\u001B[0;32m      8\u001B[0m   time\u001B[38;5;241m.\u001B[39msleep(\u001B[38;5;241m1\u001B[39m)\n",
      "\u001B[1;31mKeyboardInterrupt\u001B[0m: "
     ]
    }
   ],
   "source": [
    "\n",
    "mc.send_angles([0,0,0,0,0,0],50)\n",
    "\n",
    "time.sleep(1)\n",
    "for count in range(3):\n",
    "  mc.send_angles([87.8,(-51.5),60.9,11.95,(-15.9),(-6.06)],50)\n",
    "  time.sleep(1)\n",
    "  mc.send_angles([87.97,42.01,(-45.26),10.37,(-15.9),(-6.06)],50)\n",
    "  time.sleep(1)\n",
    "mc.send_angles([19.77,79.36,(-114.34),39.63,(-15.9),(-6.06)],50)\n",
    "time.sleep(1)\n",
    "for count2 in range(4):\n",
    "  mc.send_angles([43.24,93.42,(-140.88),48.07,60.64,(-6.06)],50)\n",
    "  time.sleep(1)\n",
    "  mc.send_angles([19.77,79.36,(-114.34),39.63,(-15.9),(-6.06)],50)\n",
    "  time.sleep(1)"
   ],
   "metadata": {
    "collapsed": false,
    "ExecuteTime": {
     "end_time": "2024-03-12T16:07:06.369334700Z",
     "start_time": "2024-03-12T16:07:04.348817700Z"
    }
   }
  },
  {
   "cell_type": "code",
   "execution_count": 50,
   "outputs": [],
   "source": [
    "mc.set_gripper_state(0, 50, 1) # 0 open; 1 closed"
   ],
   "metadata": {
    "collapsed": false,
    "ExecuteTime": {
     "end_time": "2024-03-12T15:50:20.002830Z",
     "start_time": "2024-03-12T15:50:19.973299100Z"
    }
   }
  },
  {
   "cell_type": "code",
   "execution_count": 62,
   "outputs": [],
   "source": [
    "mc.send_coords([140, 160, 160, 0, 0, 0], 70, 0)"
   ],
   "metadata": {
    "collapsed": false,
    "ExecuteTime": {
     "end_time": "2024-03-12T15:54:05.199795700Z",
     "start_time": "2024-03-12T15:54:05.173523500Z"
    }
   }
  },
  {
   "cell_type": "code",
   "execution_count": 55,
   "outputs": [],
   "source": [
    "# demo\n",
    "mc.send_angles([25,90,(-114.34),39.63,(-15.9),(-6.06)],50)"
   ],
   "metadata": {
    "collapsed": false,
    "ExecuteTime": {
     "end_time": "2024-03-12T15:51:03.167532600Z",
     "start_time": "2024-03-12T15:51:03.138185Z"
    }
   }
  },
  {
   "cell_type": "code",
   "execution_count": 101,
   "outputs": [],
   "source": [
    "mc.send_coords([190, 15, 90, -180, 0, -45], 30, 0)"
   ],
   "metadata": {
    "collapsed": false,
    "ExecuteTime": {
     "end_time": "2024-03-12T16:01:58.096519300Z",
     "start_time": "2024-03-12T16:01:58.084647900Z"
    }
   }
  },
  {
   "cell_type": "code",
   "execution_count": 178,
   "outputs": [],
   "source": [
    "# demo\n",
    "mc.set_gripper_state(0, 50, 1)\n",
    "mc.send_angles([0, 0, 0, 0, 0, 0], 70)  # 50 is the speed\n",
    "time.sleep(1)\n",
    "mc.send_coords([190, 0, 200, -180, 0, -45], 70, 0)\n",
    "time.sleep(2)\n",
    "mc.send_coords([190, 0, 100, -180, 0, -45], 30, 1)\n",
    "time.sleep(1)\n",
    "mc.set_gripper_value(80, 70, 1)\n",
    "time.sleep(0.5)\n",
    "mc.send_coords([190, 0, 100, -180, 0, -45], 70, 0)\n",
    "time.sleep(1)\n",
    "mc.send_coords([190, 0, 200, -180, 0, -45], 70, 0)\n",
    "time.sleep(1)\n",
    "mc.send_coords([160, -150, 200, -180, 0, -45], 70, 0)\n",
    "time.sleep(1)\n",
    "mc.set_gripper_state(0, 70, 1)\n",
    "time.sleep(1)\n",
    "mc.send_angles([0, 0, 0, 0, 0, 0], 70)"
   ],
   "metadata": {
    "collapsed": false,
    "ExecuteTime": {
     "end_time": "2024-03-12T16:29:57.925558500Z",
     "start_time": "2024-03-12T16:29:49.398454900Z"
    }
   }
  },
  {
   "cell_type": "code",
   "execution_count": 175,
   "outputs": [],
   "source": [],
   "metadata": {
    "collapsed": false,
    "ExecuteTime": {
     "end_time": "2024-03-12T16:28:31.733465200Z",
     "start_time": "2024-03-12T16:28:31.702205500Z"
    }
   }
  },
  {
   "cell_type": "code",
   "execution_count": 154,
   "outputs": [],
   "source": [],
   "metadata": {
    "collapsed": false,
    "ExecuteTime": {
     "end_time": "2024-03-12T16:19:58.555890900Z",
     "start_time": "2024-03-12T16:19:58.539949400Z"
    }
   }
  },
  {
   "cell_type": "code",
   "execution_count": null,
   "outputs": [],
   "source": [],
   "metadata": {
    "collapsed": false
   }
  }
 ],
 "metadata": {
  "kernelspec": {
   "display_name": "Python 3",
   "language": "python",
   "name": "python3"
  },
  "language_info": {
   "codemirror_mode": {
    "name": "ipython",
    "version": 2
   },
   "file_extension": ".py",
   "mimetype": "text/x-python",
   "name": "python",
   "nbconvert_exporter": "python",
   "pygments_lexer": "ipython2",
   "version": "2.7.6"
  }
 },
 "nbformat": 4,
 "nbformat_minor": 0
}
