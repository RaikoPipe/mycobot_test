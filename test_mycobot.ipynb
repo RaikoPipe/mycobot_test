{
 "cells": [
  {
   "cell_type": "code",
   "execution_count": 5,
   "outputs": [],
   "source": [
    "from pymycobot import MyCobotSocket\n",
    "import time"
   ],
   "metadata": {
    "collapsed": false,
    "ExecuteTime": {
     "end_time": "2024-04-24T10:13:40.293681Z",
     "start_time": "2024-04-24T10:13:40.290416Z"
    }
   }
  },
  {
   "cell_type": "code",
   "execution_count": 6,
   "outputs": [],
   "source": [
    "# Initialize the MyCobot\n",
    "mc = MyCobotSocket('141.44.152.231', 9000)"
   ],
   "metadata": {
    "collapsed": false,
    "ExecuteTime": {
     "end_time": "2024-04-24T10:13:41.071163Z",
     "start_time": "2024-04-24T10:13:41.065019Z"
    }
   }
  },
  {
   "cell_type": "code",
   "execution_count": 7,
   "outputs": [],
   "source": [
    "# Send the robot to the zero configuration\n",
    "mc.send_angles([0, 0, 0, 0, 0, 0], 10)  # 50 is the speed"
   ],
   "metadata": {
    "collapsed": false,
    "ExecuteTime": {
     "end_time": "2024-04-24T10:13:41.775877Z",
     "start_time": "2024-04-24T10:13:41.771939Z"
    }
   }
  },
  {
   "cell_type": "code",
   "execution_count": 12,
   "outputs": [],
   "source": [
    "mc.send_angles([0,0,0,0,0,0],50)\n",
    "\n",
    "time.sleep(1)\n",
    "for count in range(3):\n",
    "  mc.send_angles([87.8,(-51.5),60.9,11.95,(-15.9),(-6.06)],50)\n",
    "  time.sleep(1)\n",
    "  mc.send_angles([87.97,42.01,(-45.26),10.37,(-15.9),(-6.06)],50)\n",
    "  time.sleep(1)\n",
    "mc.send_angles([19.77,79.36,(-114.34),39.63,(-15.9),(-6.06)],50)\n",
    "time.sleep(1)\n",
    "for count2 in range(4):\n",
    "  mc.send_angles([43.24,93.42,(-140.88),48.07,60.64,(-6.06)],50)\n",
    "  time.sleep(1)\n",
    "  mc.send_angles([19.77,79.36,(-114.34),39.63,(-15.9),(-6.06)],50)\n",
    "  time.sleep(1)"
   ],
   "metadata": {
    "collapsed": false,
    "ExecuteTime": {
     "end_time": "2024-04-24T06:34:10.264568Z",
     "start_time": "2024-04-24T06:33:54.244706Z"
    }
   }
  },
  {
   "cell_type": "code",
   "execution_count": 30,
   "outputs": [],
   "source": [
    "mc.set_gripper_state(0, 50, 1) # 0 open; 1 closed"
   ],
   "metadata": {
    "collapsed": false,
    "ExecuteTime": {
     "end_time": "2024-04-22T13:26:49.956585Z",
     "start_time": "2024-04-22T13:26:49.952920Z"
    }
   }
  },
  {
   "cell_type": "code",
   "execution_count": 31,
   "outputs": [],
   "source": [
    "mc.send_coords([140, 160, 160, 0, 0, 0], 70, 0)"
   ],
   "metadata": {
    "collapsed": false,
    "ExecuteTime": {
     "end_time": "2024-04-22T13:26:50.298261Z",
     "start_time": "2024-04-22T13:26:50.293215Z"
    }
   }
  },
  {
   "cell_type": "code",
   "outputs": [],
   "source": [],
   "metadata": {
    "collapsed": false
   }
  },
  {
   "cell_type": "code",
   "execution_count": 32,
   "outputs": [],
   "source": [
    "# demo\n",
    "mc.send_angles([25,90,(-114.34),39.63,(-15.9),(-6.06)],50)"
   ],
   "metadata": {
    "collapsed": false,
    "ExecuteTime": {
     "end_time": "2024-04-22T13:26:50.589365Z",
     "start_time": "2024-04-22T13:26:50.585017Z"
    }
   }
  },
  {
   "cell_type": "code",
   "execution_count": 33,
   "outputs": [],
   "source": [
    "mc.send_coords([190, 15, 90, -180, 0, -45], 30, 0)"
   ],
   "metadata": {
    "collapsed": false,
    "ExecuteTime": {
     "end_time": "2024-04-22T13:26:50.885395Z",
     "start_time": "2024-04-22T13:26:50.881404Z"
    }
   }
  },
  {
   "cell_type": "code",
   "execution_count": 4,
   "outputs": [],
   "source": [
    "# demo\n",
    "mc.set_gripper_state(0, 50, 1)\n",
    "mc.send_angles([0, 0, 0, 0, 0, 0], 70)  # 50 is the speed\n",
    "time.sleep(1)\n",
    "mc.send_coords([190, 0, 200, -180, 0, -45], 70, 0)\n",
    "time.sleep(2)\n",
    "mc.send_coords([190, 0, 100, -180, 0, -45], 30, 1)\n",
    "time.sleep(1)\n",
    "mc.set_gripper_value(80, 70, 1)\n",
    "time.sleep(0.5)\n",
    "mc.send_coords([190, 0, 100, -180, 0, -45], 70, 0)\n",
    "time.sleep(1)\n",
    "mc.send_coords([190, 0, 200, -180, 0, -45], 70, 0)\n",
    "time.sleep(1)\n",
    "mc.send_coords([160, -150, 200, -180, 0, -45], 70, 0)\n",
    "time.sleep(1)\n",
    "mc.set_gripper_state(0, 70, 1)\n",
    "time.sleep(1)\n",
    "mc.send_angles([0, 0, 0, 0, 0, 0], 70)"
   ],
   "metadata": {
    "collapsed": false,
    "ExecuteTime": {
     "end_time": "2024-04-24T09:24:25.629253Z",
     "start_time": "2024-04-24T09:24:17.115555Z"
    }
   }
  },
  {
   "cell_type": "code",
   "outputs": [],
   "source": [
    "mc.send_angle(6, 45, 50) # default ee angle"
   ],
   "metadata": {
    "collapsed": false,
    "ExecuteTime": {
     "end_time": "2024-04-23T11:34:09.771744Z",
     "start_time": "2024-04-23T11:34:09.768079Z"
    }
   },
   "execution_count": 45
  },
  {
   "cell_type": "code",
   "outputs": [],
   "source": [
    "mc.send_angle(6, 90, 50) # "
   ],
   "metadata": {
    "collapsed": false,
    "ExecuteTime": {
     "end_time": "2024-04-23T12:04:55.874380Z",
     "start_time": "2024-04-23T12:04:55.870754Z"
    }
   },
   "execution_count": 8
  },
  {
   "cell_type": "code",
   "outputs": [],
   "source": [
    "mc.close()"
   ],
   "metadata": {
    "collapsed": false,
    "ExecuteTime": {
     "end_time": "2024-04-24T09:26:03.444010Z",
     "start_time": "2024-04-24T09:26:03.441277Z"
    }
   },
   "execution_count": 10
  },
  {
   "cell_type": "code",
   "outputs": [],
   "source": [
    "mc.release_all_servos()"
   ],
   "metadata": {
    "collapsed": false,
    "ExecuteTime": {
     "end_time": "2024-04-24T07:23:46.734939Z",
     "start_time": "2024-04-24T07:23:46.730283Z"
    }
   },
   "execution_count": 16
  },
  {
   "cell_type": "code",
   "outputs": [],
   "source": [],
   "metadata": {
    "collapsed": false
   }
  }
 ],
 "metadata": {
  "kernelspec": {
   "display_name": "Python 3",
   "language": "python",
   "name": "python3"
  },
  "language_info": {
   "codemirror_mode": {
    "name": "ipython",
    "version": 2
   },
   "file_extension": ".py",
   "mimetype": "text/x-python",
   "name": "python",
   "nbconvert_exporter": "python",
   "pygments_lexer": "ipython2",
   "version": "2.7.6"
  }
 },
 "nbformat": 4,
 "nbformat_minor": 0
}
