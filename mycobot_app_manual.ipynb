{
 "cells": [
  {
   "cell_type": "markdown",
   "source": [
    "## Trouble shooting"
   ],
   "metadata": {
    "collapsed": false
   },
   "id": "29a6107a38e07591"
  },
  {
   "cell_type": "markdown",
   "source": [
    "Robot states:\n",
    "- Green: Ready\n",
    "- Blue: Released servos (For recording)\n",
    "- Orange: Busy\n",
    "- Red: Error (Means the server failed to send the command to the robot -> Timeout)\n",
    "\n",
    "Q: How do I start the server?\n",
    "A: Start the jetson nano and run the following command in the terminal:\n",
    "\n",
    "    /usr/bin/python /home/er/Desktop/pymycobot/demo/Server.py\n",
    "\n",
    "Q: The server shows an OSError: [Errno 98] Address already in use\n",
    "A: Find and kill the server process by running the following command:\n",
    "\n",
    "    ps -ef | grep Server.py\n",
    "    kill <ID> # Replace <ID> with the process ID\n",
    "    /usr/bin/python /home/er/Desktop/pymycobot/demo/Server.py # Restart the server\n",
    "\n",
    "Q: The server **still** shows an OSError: [Errno 98] Address already in use\n",
    "A: Find all the python processes and kill them by running the following command:\n",
    "\n",
    "    ps -ef | grep python\n",
    "    kill <ID> # Replace <ID> with the process ID\n",
    "    /usr/bin/python /home/er/Desktop/pymycobot/demo/Server.py # Restart the server\n",
    "\n",
    "Q: The robot went rogue.\n",
    "A: The robot (including the jetson nano) powers off when some current strength threshold was surpassed. The jetson nano is probably already restarting. Wait for the jetson nano to restart and restart the server. "
   ],
   "metadata": {
    "collapsed": false
   },
   "id": "ebf6628a060173a4"
  },
  {
   "cell_type": "code",
   "outputs": [],
   "source": [],
   "metadata": {
    "collapsed": false
   },
   "id": "b4484ca634211d24"
  }
 ],
 "metadata": {
  "kernelspec": {
   "display_name": "Python 3",
   "language": "python",
   "name": "python3"
  },
  "language_info": {
   "codemirror_mode": {
    "name": "ipython",
    "version": 2
   },
   "file_extension": ".py",
   "mimetype": "text/x-python",
   "name": "python",
   "nbconvert_exporter": "python",
   "pygments_lexer": "ipython2",
   "version": "2.7.6"
  }
 },
 "nbformat": 4,
 "nbformat_minor": 5
}
